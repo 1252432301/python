{
 "cells": [
  {
   "cell_type": "code",
   "execution_count": 1,
   "id": "c4f4ff51-7cd3-42ff-8e8e-e76db7b14c8c",
   "metadata": {},
   "outputs": [],
   "source": [
    "import pandas as pd"
   ]
  },
  {
   "cell_type": "markdown",
   "id": "e2281fc3-2958-4e29-87a4-5e422beb5cac",
   "metadata": {},
   "source": [
    "创建一个角S1的Series，里面包含元素-1.2，3.7，2.5，-8.2，6.3.创建后输出"
   ]
  },
  {
   "cell_type": "code",
   "execution_count": 4,
   "id": "8c106729-0705-4592-8882-381c1c016c5f",
   "metadata": {},
   "outputs": [
    {
     "data": {
      "text/plain": [
       "0   -1.2\n",
       "1    3.7\n",
       "2    2.5\n",
       "3   -8.2\n",
       "4    6.3\n",
       "dtype: float64"
      ]
     },
     "execution_count": 4,
     "metadata": {},
     "output_type": "execute_result"
    }
   ],
   "source": [
    "s1 = pd.Series([-1.2,3.7,2.5,-8.2,6.3])\n",
    "s1"
   ]
  },
  {
   "cell_type": "markdown",
   "id": "1fc2b824-a25c-4bc8-b08e-432ec5191615",
   "metadata": {},
   "source": [
    "打印s1的所有索引以及所有元素值"
   ]
  },
  {
   "cell_type": "code",
   "execution_count": 5,
   "id": "17bfc778-7f36-431c-842c-b367564c1a49",
   "metadata": {},
   "outputs": [
    {
     "name": "stdout",
     "output_type": "stream",
     "text": [
      "RangeIndex(start=0, stop=5, step=1)\n",
      "[-1.2  3.7  2.5 -8.2  6.3]\n"
     ]
    }
   ],
   "source": [
    "print(s1.index)\n",
    "print(s1.values)"
   ]
  },
  {
   "cell_type": "markdown",
   "id": "382fa510-27bb-4019-b3f8-53600a90202d",
   "metadata": {},
   "source": [
    "创建一个s2的Series，里面包含元素1，2，3，4，5，并且对应索引5，4，3，2，1.创建后进行输出。"
   ]
  },
  {
   "cell_type": "code",
   "execution_count": 9,
   "id": "92c0d818-15fb-4524-84a3-b6e8258147ef",
   "metadata": {},
   "outputs": [
    {
     "data": {
      "text/plain": [
       "5    1\n",
       "4    2\n",
       "3    3\n",
       "2    4\n",
       "1    5\n",
       "dtype: int64"
      ]
     },
     "execution_count": 9,
     "metadata": {},
     "output_type": "execute_result"
    }
   ],
   "source": [
    "s2=pd.Series([1,2,3,4,5],index=[5,4,3,2,1])\n",
    "s2"
   ]
  },
  {
   "cell_type": "markdown",
   "id": "920a7abc-19dd-4fdb-830d-d21271c172ca",
   "metadata": {},
   "source": [
    "输出s2里按位置顺序排序为第2的元素"
   ]
  },
  {
   "cell_type": "code",
   "execution_count": 10,
   "id": "dc749b96-6b0e-4d7d-80a8-587adb1fef74",
   "metadata": {},
   "outputs": [
    {
     "data": {
      "text/plain": [
       "np.int64(2)"
      ]
     },
     "execution_count": 10,
     "metadata": {},
     "output_type": "execute_result"
    }
   ],
   "source": [
    "s2.iloc[1]"
   ]
  },
  {
   "cell_type": "markdown",
   "id": "941346cc-b996-413f-b722-9d7412ffce66",
   "metadata": {},
   "source": [
    "输出s2里按标签对应从5到3（包括）范围内的元素。"
   ]
  },
  {
   "cell_type": "code",
   "execution_count": 11,
   "id": "0e09c36a-5ed3-4f48-9414-0f610deff8d4",
   "metadata": {},
   "outputs": [
    {
     "data": {
      "text/plain": [
       "5    1\n",
       "4    2\n",
       "3    3\n",
       "dtype: int64"
      ]
     },
     "execution_count": 11,
     "metadata": {},
     "output_type": "execute_result"
    }
   ],
   "source": [
    "s2.loc[5:3]"
   ]
  },
  {
   "cell_type": "markdown",
   "id": "258c419c-3a4b-49b7-8629-ba26207208d2",
   "metadata": {},
   "source": [
    "通过一个字典来创建Series。s3。字典的键为：小李，小陈，小张，小曾，小邓，值为82，93，91，78，68。并输出"
   ]
  },
  {
   "cell_type": "code",
   "execution_count": 14,
   "id": "61625294-809c-499e-84d3-32f9cab39dbf",
   "metadata": {},
   "outputs": [
    {
     "data": {
      "text/plain": [
       "小李    82\n",
       "小陈    93\n",
       "小张    91\n",
       "小曾    78\n",
       "小邓    68\n",
       "dtype: int64"
      ]
     },
     "execution_count": 14,
     "metadata": {},
     "output_type": "execute_result"
    }
   ],
   "source": [
    "s3 = pd.Series({\"小李\":82,\"小陈\":93,\"小张\":91,\"小曾\":78,\"小邓\":68})\n",
    "s3"
   ]
  },
  {
   "cell_type": "markdown",
   "id": "bd5d7ace-4057-4607-bb4b-92f64eff8bae",
   "metadata": {},
   "source": [
    "把s3里小张标签对应的值改为95,再输出s3"
   ]
  },
  {
   "cell_type": "code",
   "execution_count": 17,
   "id": "0ed9ef99-0deb-41f1-93b6-b1405ad978ce",
   "metadata": {},
   "outputs": [
    {
     "data": {
      "text/plain": [
       "小李    82\n",
       "小陈    93\n",
       "小张    95\n",
       "小曾    78\n",
       "小邓    68\n",
       "dtype: int64"
      ]
     },
     "execution_count": 17,
     "metadata": {},
     "output_type": "execute_result"
    }
   ],
   "source": [
    "s3.loc[\"小张\"]=95\n",
    "s3"
   ]
  },
  {
   "cell_type": "markdown",
   "id": "388e273a-f30f-4368-a67d-07f342a30d82",
   "metadata": {},
   "source": [
    "输出s3里所有值大于80且小于90的元素"
   ]
  },
  {
   "cell_type": "code",
   "execution_count": 21,
   "id": "4d112895-faab-4a99-b53d-177a735afa30",
   "metadata": {},
   "outputs": [
    {
     "data": {
      "text/plain": [
       "小李    82\n",
       "dtype: int64"
      ]
     },
     "execution_count": 21,
     "metadata": {},
     "output_type": "execute_result"
    }
   ],
   "source": [
    "s3[(s3 > 80) & (s3 < 90)]"
   ]
  },
  {
   "cell_type": "code",
   "execution_count": null,
   "id": "9af6f8cd-5e3a-43c1-8314-87c649de40c6",
   "metadata": {},
   "outputs": [],
   "source": []
  },
  {
   "cell_type": "code",
   "execution_count": 1,
   "id": "10ab28ba-2905-4ec9-9207-1b3f569f17ec",
   "metadata": {},
   "outputs": [],
   "source": [
    "import pandas as pd"
   ]
  },
  {
   "cell_type": "markdown",
   "id": "37929771-521d-424e-8a49-17a63cc84cbd",
   "metadata": {},
   "source": [
    "创建s1，包含元素[92，67，70，88，76]以及对应索引[\"小明\",\"小红\",\"小杰\",\"小丽\",\"小华\"]。\n",
    "创建s2，包含元素[95，85，60，79，76]以及对应索引[\"小明\",\"小杰\",\"小宇\",\"小娟\",\"小彤\"]。创建后打印"
   ]
  },
  {
   "cell_type": "code",
   "execution_count": 2,
   "id": "fc5cde8d-07d9-485e-b4bd-476e3649a7cb",
   "metadata": {},
   "outputs": [
    {
     "name": "stdout",
     "output_type": "stream",
     "text": [
      "小明    92\n",
      "小红    67\n",
      "小杰    70\n",
      "小丽    88\n",
      "小华    76\n",
      "dtype: int64\n",
      "小明    95\n",
      "小杰    85\n",
      "小宇    60\n",
      "小娟    79\n",
      "小彤    76\n",
      "dtype: int64\n"
     ]
    }
   ],
   "source": [
    "s1 = pd.Series([92,67,70,88,76],index=[\"小明\",\"小红\",\"小杰\",\"小丽\",\"小华\"])\n",
    "s2 = pd.Series([95,85,60,79,76],index=[\"小明\",\"小杰\",\"小宇\",\"小娟\",\"小彤\"])\n",
    "print(s1)\n",
    "print(s2)"
   ]
  },
  {
   "cell_type": "markdown",
   "id": "34fe64fe-73c4-48ec-a375-6399211d9c0a",
   "metadata": {},
   "source": [
    "让s1和s2的相同索引元素之间进行相加，若无法找到对应索引值则将缺失值用0代替"
   ]
  },
  {
   "cell_type": "code",
   "execution_count": 3,
   "id": "c3354e5d-f03e-40d8-9ff0-7316dc9aa176",
   "metadata": {
    "scrolled": true
   },
   "outputs": [
    {
     "data": {
      "text/plain": [
       "小丽     88.0\n",
       "小华     76.0\n",
       "小娟     79.0\n",
       "小宇     60.0\n",
       "小彤     76.0\n",
       "小明    187.0\n",
       "小杰    155.0\n",
       "小红     67.0\n",
       "dtype: float64"
      ]
     },
     "execution_count": 3,
     "metadata": {},
     "output_type": "execute_result"
    }
   ],
   "source": [
    "s1.add(s2,fill_value=0)"
   ]
  },
  {
   "cell_type": "markdown",
   "id": "92380f20-a5cd-4ba1-9e9e-4924fb47e34c",
   "metadata": {},
   "source": [
    "输出s1的统计学相关数据，包括最大值，最小值，平均值，标准差。"
   ]
  },
  {
   "cell_type": "code",
   "execution_count": 4,
   "id": "dd42b97a-8aab-496a-83b2-ac6a61bda449",
   "metadata": {
    "scrolled": true
   },
   "outputs": [
    {
     "data": {
      "text/plain": [
       "count     5.000000\n",
       "mean     78.600000\n",
       "std      10.990905\n",
       "min      67.000000\n",
       "25%      70.000000\n",
       "50%      76.000000\n",
       "75%      88.000000\n",
       "max      92.000000\n",
       "dtype: float64"
      ]
     },
     "execution_count": 4,
     "metadata": {},
     "output_type": "execute_result"
    }
   ],
   "source": [
    "s1.describe()"
   ]
  },
  {
   "cell_type": "markdown",
   "id": "127cdcfa-43d2-4811-bf2d-e8311741aae6",
   "metadata": {},
   "source": [
    "把s1更新为所有数字加5后的结果，并运行输出。"
   ]
  },
  {
   "cell_type": "code",
   "execution_count": 7,
   "id": "90472be3-12fd-4851-bce7-31280aa4c9be",
   "metadata": {},
   "outputs": [
    {
     "name": "stdout",
     "output_type": "stream",
     "text": [
      "小明    97\n",
      "小红    72\n",
      "小杰    75\n",
      "小丽    93\n",
      "小华    81\n",
      "dtype: int64\n"
     ]
    }
   ],
   "source": [
    "s1 = s1 + 5\n",
    "print(s1)"
   ]
  },
  {
   "cell_type": "markdown",
   "id": "dad73d17-b0cc-418c-89d1-b2328d918b60",
   "metadata": {},
   "source": [
    "根据成绩输出等级"
   ]
  },
  {
   "cell_type": "code",
   "execution_count": 14,
   "id": "96713db9-4c7b-4167-aa8d-8da4332f3515",
   "metadata": {},
   "outputs": [
    {
     "data": {
      "text/plain": [
       "小明    A\n",
       "小红    C\n",
       "小杰    C\n",
       "小丽    A\n",
       "小华    B\n",
       "dtype: object"
      ]
     },
     "execution_count": 14,
     "metadata": {},
     "output_type": "execute_result"
    }
   ],
   "source": [
    "def get_grade_from_score(score):\n",
    "    if score >= 90:\n",
    "        return\"A\"\n",
    "    elif score >= 80:\n",
    "        return\"B\"\n",
    "    elif score >= 70:\n",
    "        return\"C\"\n",
    "    elif score >= 60:\n",
    "        return\"D\"\n",
    "    else:\n",
    "        return\"不及格\"\n",
    "s1.apply(get_grade_from_score)"
   ]
  },
  {
   "cell_type": "code",
   "execution_count": null,
   "id": "98ae07ad-f02b-4a40-aed6-6b8d2c96120d",
   "metadata": {},
   "outputs": [],
   "source": []
  }
 ],
 "metadata": {
  "kernelspec": {
   "display_name": "Python 3 (ipykernel)",
   "language": "python",
   "name": "python3"
  },
  "language_info": {
   "codemirror_mode": {
    "name": "ipython",
    "version": 3
   },
   "file_extension": ".py",
   "mimetype": "text/x-python",
   "name": "python",
   "nbconvert_exporter": "python",
   "pygments_lexer": "ipython3",
   "version": "3.13.0"
  }
 },
 "nbformat": 4,
 "nbformat_minor": 5
}
