{
 "cells": [
  {
   "cell_type": "markdown",
   "id": "ae7fd387-ac89-4680-a1ff-e85e08e8f8ca",
   "metadata": {},
   "source": [
    "写出导入numpy的语句，并且给numpy别名为np"
   ]
  },
  {
   "cell_type": "code",
   "execution_count": 1,
   "id": "499ae42b-7aaf-4294-b5de-dacacbdbe39a",
   "metadata": {},
   "outputs": [],
   "source": [
    "import numpy as np"
   ]
  },
  {
   "cell_type": "markdown",
   "id": "5a39bb83-7652-4e73-a62c-ab4598ac85e9",
   "metadata": {},
   "source": [
    "创建一个变量名为arr1的一维数组，里面元素为整数6，2，-7，8，-2，1。创建后输出arr1。"
   ]
  },
  {
   "cell_type": "code",
   "execution_count": 7,
   "id": "cff34246-3481-4993-8dfb-dc319d312f97",
   "metadata": {},
   "outputs": [
    {
     "name": "stdout",
     "output_type": "stream",
     "text": [
      "[ 6  2 -7  8 -2  1]\n"
     ]
    }
   ],
   "source": [
    "arr1=np.array([6,2,-7,8,-2,1])\n",
    "print(arr1)"
   ]
  },
  {
   "cell_type": "markdown",
   "id": "4788a7a0-eef0-459a-a643-bfe532e256db",
   "metadata": {},
   "source": [
    "创建一个变量名为arr2的二维数组，里面的元素为以下两个数组：由整数1，3，5组成的一维数组，以及由整数2，4，6组成的一位数组，创建后输出"
   ]
  },
  {
   "cell_type": "code",
   "execution_count": 5,
   "id": "bb98eb16-f7b0-45de-aded-445635e9e8fb",
   "metadata": {},
   "outputs": [
    {
     "name": "stdout",
     "output_type": "stream",
     "text": [
      "[[1 3 5]\n",
      " [2 4 6]]\n"
     ]
    }
   ],
   "source": [
    "arr2=np.array([[1,3,5],[2,4,6]])\n",
    "print(arr2)"
   ]
  },
  {
   "cell_type": "markdown",
   "id": "01fcc6fc-3612-40e8-9512-0ae69782c2c0",
   "metadata": {},
   "source": [
    "分别打印arr1和arr2的维度、形状、元素数量、元素类型。"
   ]
  },
  {
   "cell_type": "code",
   "execution_count": 12,
   "id": "4c32b182-e0e2-41b3-ba74-2ada1e73460b",
   "metadata": {},
   "outputs": [
    {
     "name": "stdout",
     "output_type": "stream",
     "text": [
      "1\n",
      "2\n",
      "(6,)\n",
      "(2, 3)\n",
      "6\n",
      "6\n",
      "int64\n"
     ]
    }
   ],
   "source": [
    "print(arr1.ndim)\n",
    "print(arr2.ndim)\n",
    "print(arr1.shape)\n",
    "print(arr2.shape)\n",
    "print(arr1.size)\n",
    "print(arr2.size)\n",
    "print(arr1.dtype)"
   ]
  },
  {
   "cell_type": "markdown",
   "id": "78763cbc-9993-431e-a214-7d5fca4f6749",
   "metadata": {},
   "source": [
    "创建一个变量名为arr_all_0的一维数组，里面的元素为6个0"
   ]
  },
  {
   "cell_type": "markdown",
   "id": "08cc7f0f-e60b-4440-acbc-a1fed04a3601",
   "metadata": {},
   "source": [
    "arr_all_0 = np.zeros(6)\n",
    "arr_all_0"
   ]
  },
  {
   "cell_type": "markdown",
   "id": "a971ece1-6ac9-4748-b0cb-28930a3d2ff5",
   "metadata": {},
   "source": [
    "创建一个变量名为arr_all_1的一维数组，里面元素为6个1"
   ]
  },
  {
   "cell_type": "code",
   "execution_count": 15,
   "id": "640b1edb-11d9-4d87-ac10-d1da3ab1d138",
   "metadata": {},
   "outputs": [
    {
     "data": {
      "text/plain": [
       "array([1., 1., 1., 1., 1., 1.])"
      ]
     },
     "execution_count": 15,
     "metadata": {},
     "output_type": "execute_result"
    }
   ],
   "source": [
    "arr_all_1 = np.ones(6)\n",
    "arr_all_1"
   ]
  },
  {
   "cell_type": "markdown",
   "id": "184f16c5-509c-46bc-b7c8-c8d7e371eb5e",
   "metadata": {},
   "source": [
    "创建一个变量名为arr_even的一维数组，里面的元素为10（包括10）到20（包括20）之间的偶数，并输出"
   ]
  },
  {
   "cell_type": "code",
   "execution_count": 16,
   "id": "408ec17e-8b6c-4b41-9754-e4b79b162d93",
   "metadata": {},
   "outputs": [
    {
     "data": {
      "text/plain": [
       "array([10, 12, 14, 16, 18, 20])"
      ]
     },
     "execution_count": 16,
     "metadata": {},
     "output_type": "execute_result"
    }
   ],
   "source": [
    "arr_even = np.arange(10,21,2)\n",
    "arr_even"
   ]
  },
  {
   "cell_type": "markdown",
   "id": "ca1ac26f-0afb-4ddf-828e-02497bd0e995",
   "metadata": {},
   "source": [
    "导入numpy"
   ]
  },
  {
   "cell_type": "code",
   "execution_count": 1,
   "id": "ef1fae55-6727-4d09-851f-91ed9dc41609",
   "metadata": {},
   "outputs": [],
   "source": [
    "import numpy as np"
   ]
  },
  {
   "cell_type": "markdown",
   "id": "aebe8bd2-f074-4854-b819-223c10d2e400",
   "metadata": {},
   "source": [
    "创建arr1为包含元素1，3，2，4，9的数组，创建arr2为长度为5的由1组成的一维数组，arr3为长度为3的由0组成的数组"
   ]
  },
  {
   "cell_type": "code",
   "execution_count": 4,
   "id": "c906056f-24df-43a9-b2bb-35d18cc2afac",
   "metadata": {},
   "outputs": [
    {
     "name": "stdout",
     "output_type": "stream",
     "text": [
      "[1 3 2 4 9]\n",
      "[1. 1. 1. 1. 1.]\n",
      "[0. 0. 0.]\n"
     ]
    }
   ],
   "source": [
    "arr1 = np.array([1,3,2,4,9])\n",
    "arr2 = np.ones(5)\n",
    "arr3 = np.zeros(3)\n",
    "print(arr1)\n",
    "print(arr2)\n",
    "print(arr3)"
   ]
  },
  {
   "cell_type": "markdown",
   "id": "cf71e42d-6094-4882-ba77-a5ae2e367b42",
   "metadata": {},
   "source": [
    "创建数组arr4,包括所有arr1,arr2,arr3里面的数字，并输出。"
   ]
  },
  {
   "cell_type": "code",
   "execution_count": 6,
   "id": "7f0e5115-c17c-4685-8686-c61842c8a9c4",
   "metadata": {},
   "outputs": [
    {
     "data": {
      "text/plain": [
       "array([1., 3., 2., 4., 9., 1., 1., 1., 1., 1., 0., 0., 0.])"
      ]
     },
     "execution_count": 6,
     "metadata": {},
     "output_type": "execute_result"
    }
   ],
   "source": [
    "arr4 = np.concatenate([arr1,arr2,arr3])\n",
    "arr4"
   ]
  },
  {
   "cell_type": "markdown",
   "id": "3a399da5-e427-46ce-a49d-b29566570e65",
   "metadata": {},
   "source": [
    "更改arr1，对arr1里的元素进行排序，并输出排序后的结果。"
   ]
  },
  {
   "cell_type": "code",
   "execution_count": 7,
   "id": "1239f930-b44c-4774-bda8-2683250632c5",
   "metadata": {},
   "outputs": [
    {
     "data": {
      "text/plain": [
       "array([1, 2, 3, 4, 9])"
      ]
     },
     "execution_count": 7,
     "metadata": {},
     "output_type": "execute_result"
    }
   ],
   "source": [
    "arr1.sort()\n",
    "arr1"
   ]
  },
  {
   "cell_type": "markdown",
   "id": "a280e064-4c6e-4c08-9bc8-7e6313c5cc18",
   "metadata": {},
   "source": [
    "用两种方法打印arr1的第三个元素"
   ]
  },
  {
   "cell_type": "code",
   "execution_count": 8,
   "id": "db12a399-0317-4bd4-9cb5-b3775585c90f",
   "metadata": {},
   "outputs": [
    {
     "name": "stdout",
     "output_type": "stream",
     "text": [
      "3\n",
      "3\n"
     ]
    }
   ],
   "source": [
    "print(arr1[2])\n",
    "print(arr1[-3])"
   ]
  },
  {
   "cell_type": "markdown",
   "id": "b4f023a8-fea4-4604-bf26-3de39b918e33",
   "metadata": {},
   "source": [
    "输出从arr1第2个元素到第4个元素组成的数组"
   ]
  },
  {
   "cell_type": "code",
   "execution_count": 9,
   "id": "aaa922ce-eabb-4057-9318-a7bf9d45e2ba",
   "metadata": {},
   "outputs": [
    {
     "name": "stdout",
     "output_type": "stream",
     "text": [
      "[2 3 4]\n"
     ]
    }
   ],
   "source": [
    "print(arr1[1:4])"
   ]
  },
  {
   "cell_type": "markdown",
   "id": "17e6375b-9688-42d7-9d82-c00b7b100f45",
   "metadata": {},
   "source": [
    "输出arr1与arr2的同位置元素相加后组成的数组"
   ]
  },
  {
   "cell_type": "code",
   "execution_count": 10,
   "id": "1fcf334b-ddd8-4bc4-97e2-d6dfdf50b57a",
   "metadata": {},
   "outputs": [
    {
     "data": {
      "text/plain": [
       "array([ 2.,  3.,  4.,  5., 10.])"
      ]
     },
     "execution_count": 10,
     "metadata": {},
     "output_type": "execute_result"
    }
   ],
   "source": [
    "arr1+arr2"
   ]
  },
  {
   "cell_type": "markdown",
   "id": "76f4abba-aab2-47da-9fd9-eaa115eb4b36",
   "metadata": {},
   "source": [
    "输出arr1的各个元素乘以-5后组成的数组"
   ]
  },
  {
   "cell_type": "code",
   "execution_count": 11,
   "id": "7cac49f0-6959-45e7-b168-00324b2e3eeb",
   "metadata": {},
   "outputs": [
    {
     "data": {
      "text/plain": [
       "array([ -5, -10, -15, -20, -45])"
      ]
     },
     "execution_count": 11,
     "metadata": {},
     "output_type": "execute_result"
    }
   ],
   "source": [
    "arr1 * -5 "
   ]
  },
  {
   "cell_type": "markdown",
   "id": "187bb69f-3fde-4bbc-9ff7-5b981fbd6cf5",
   "metadata": {},
   "source": [
    "打印arr1数组的最大值，最小值，和，平均值。"
   ]
  },
  {
   "cell_type": "code",
   "execution_count": 12,
   "id": "ed145cbe-5c59-4028-9636-d73d54f23835",
   "metadata": {},
   "outputs": [
    {
     "name": "stdout",
     "output_type": "stream",
     "text": [
      "9\n",
      "1\n",
      "19\n",
      "3.8\n"
     ]
    }
   ],
   "source": [
    "print(arr1.max())\n",
    "print(arr1.min())\n",
    "print(arr1.sum())\n",
    "print(arr1.mean())"
   ]
  },
  {
   "cell_type": "markdown",
   "id": "12d126bd-3db0-4d5a-8acf-9721bea8b5a8",
   "metadata": {},
   "source": [
    "筛选出arr1数组里所有小于1或大于3的数字，并打印出来。"
   ]
  },
  {
   "cell_type": "code",
   "execution_count": 17,
   "id": "df28b268-c232-4b6a-a3e2-fd7721983a8c",
   "metadata": {
    "scrolled": true
   },
   "outputs": [
    {
     "data": {
      "text/plain": [
       "array([4, 9])"
      ]
     },
     "execution_count": 17,
     "metadata": {},
     "output_type": "execute_result"
    }
   ],
   "source": [
    "arr1[(arr1<1)|(arr1>3)]"
   ]
  },
  {
   "cell_type": "code",
   "execution_count": null,
   "id": "e98a3669-beca-4c46-ac5a-f53f88a0795d",
   "metadata": {},
   "outputs": [],
   "source": []
  }
 ],
 "metadata": {
  "kernelspec": {
   "display_name": "Python 3 (ipykernel)",
   "language": "python",
   "name": "python3"
  },
  "language_info": {
   "codemirror_mode": {
    "name": "ipython",
    "version": 3
   },
   "file_extension": ".py",
   "mimetype": "text/x-python",
   "name": "python",
   "nbconvert_exporter": "python",
   "pygments_lexer": "ipython3",
   "version": "3.13.0"
  }
 },
 "nbformat": 4,
 "nbformat_minor": 5
}
